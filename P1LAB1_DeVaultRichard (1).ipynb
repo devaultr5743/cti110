{
  "nbformat": 4,
  "nbformat_minor": 0,
  "metadata": {
    "colab": {
      "provenance": []
    },
    "kernelspec": {
      "name": "python3",
      "display_name": "Python 3"
    },
    "language_info": {
      "name": "python"
    }
  },
  "cells": [
    {
      "cell_type": "code",
      "execution_count": 22,
      "metadata": {
        "colab": {
          "base_uri": "https://localhost:8080/"
        },
        "id": "Jr2a6pq0q3mL",
        "outputId": "9a163810-0bad-4adf-d101-496ff9dd3c81"
      },
      "outputs": [
        {
          "output_type": "stream",
          "name": "stdout",
          "text": [
            "enter your first name: Cynthia\n",
            "enter your last name: Cupcakes\n",
            "Hello, Cynthia Cupcakes ! Welcome to CTI-110\n"
          ]
        }
      ],
      "source": [
        "#Richard DeVault\n",
        "#2/5/2025\n",
        "#P1LAB1\n",
        "#using the input function\n",
        "\n",
        "First_name = \"Cynthia\"\n",
        "Last_name = \"Cupcakes\"\n",
        "\n",
        "\n",
        "print(\"enter your first name:\", First_name)\n",
        "print(\"enter your last name:\",Last_name)\n",
        "print(\"Hello,\", First_name, Last_name, \"! Welcome to CTI-110\")"
      ]
    }
  ]
}